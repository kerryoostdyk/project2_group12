{
 "cells": [
  {
   "cell_type": "code",
   "execution_count": 1,
   "id": "73f5c879-9b82-49ad-ad0b-c4357963faea",
   "metadata": {},
   "outputs": [],
   "source": [
    "# Import the dependencies\n",
    "import pandas as pd\n",
    "import numpy as np\n",
    "import datetime\n",
    "\n",
    "# Plotting\n",
    "import matplotlib.pyplot as plt\n",
    "import seaborn as sns\n",
    "\n",
    "# ORM Stuff\n",
    "from sqlalchemy import create_engine, inspect, text, func\n",
    "from sqlalchemy.orm import Session\n",
    "from sqlalchemy.ext.automap import automap_base"
   ]
  },
  {
   "cell_type": "code",
   "execution_count": 2,
   "id": "520306bf-d49a-4fed-b040-9ec9ccd33e60",
   "metadata": {},
   "outputs": [],
   "source": [
    "# CONNECT TO POSTGRES\n",
    "USERNAME = \"postgres\"\n",
    "PASSWORD = \"password\"\n",
    "HOST = \"localhost\"\n",
    "PORT = 5432\n",
    "DATABASE = \"campaign_db\"\n",
    "connection_str = f\"postgresql://{USERNAME}:{PASSWORD}@{HOST}:{PORT}/{DATABASE}\"\n",
    "\n",
    "# Create Engine\n",
    "engine = create_engine(connection_str)"
   ]
  },
  {
   "cell_type": "code",
   "execution_count": 3,
   "id": "01234e39-c752-4d52-bcfe-a52bff8a7727",
   "metadata": {},
   "outputs": [
    {
     "name": "stdout",
     "output_type": "stream",
     "text": [
      "contacts\n",
      "--------\n",
      "contact_id INTEGER\n",
      "firstname VARCHAR(50)\n",
      "lastname VARCHAR(50)\n",
      "email VARCHAR(100)\n",
      "last_update TIMESTAMP\n",
      "\n",
      "campaign\n",
      "--------\n",
      "cf_id INTEGER\n",
      "contact_id INTEGER\n",
      "company_name VARCHAR(100)\n",
      "description VARCHAR(100)\n",
      "goal DOUBLE PRECISION\n",
      "pledged DOUBLE PRECISION\n",
      "outcome VARCHAR(50)\n",
      "backers_count INTEGER\n",
      "country VARCHAR(30)\n",
      "currency VARCHAR(30)\n",
      "launch_date TIMESTAMP\n",
      "end_date TIMESTAMP\n",
      "category_id VARCHAR(10)\n",
      "subcategory_id VARCHAR(10)\n",
      "last_update TIMESTAMP\n",
      "\n",
      "category\n",
      "--------\n",
      "category_id VARCHAR(10)\n",
      "category VARCHAR(50)\n",
      "last_update TIMESTAMP\n",
      "\n",
      "subcategory\n",
      "--------\n",
      "subcategory_id VARCHAR(10)\n",
      "subcategory VARCHAR(50)\n",
      "last_update TIMESTAMP\n",
      "\n"
     ]
    }
   ],
   "source": [
    " # Create the inspector and connect it to the engine\n",
    "inspector = inspect(engine)\n",
    "\n",
    "# Collect the names of tables within the database\n",
    "tables = inspector.get_table_names()\n",
    "\n",
    "# Using the inspector to print the column names within the 'dow' table and its types\n",
    "for table in tables:\n",
    "    print(table)\n",
    "    print(\"--------\")\n",
    "    columns = inspector.get_columns(table)\n",
    "    for column in columns:\n",
    "        print(column[\"name\"], column[\"type\"])\n",
    "\n",
    "    print()"
   ]
  },
  {
   "cell_type": "code",
   "execution_count": 4,
   "id": "1d0ee4ae-6298-4a60-925e-78dc9a1977e5",
   "metadata": {},
   "outputs": [],
   "source": [
    "conn = engine.connect() "
   ]
  },
  {
   "cell_type": "code",
   "execution_count": 7,
   "id": "026f1309-60d7-4443-a49d-405e07f68878",
   "metadata": {},
   "outputs": [
    {
     "data": {
      "text/html": [
       "<div>\n",
       "<style scoped>\n",
       "    .dataframe tbody tr th:only-of-type {\n",
       "        vertical-align: middle;\n",
       "    }\n",
       "\n",
       "    .dataframe tbody tr th {\n",
       "        vertical-align: top;\n",
       "    }\n",
       "\n",
       "    .dataframe thead th {\n",
       "        text-align: right;\n",
       "    }\n",
       "</style>\n",
       "<table border=\"1\" class=\"dataframe\">\n",
       "  <thead>\n",
       "    <tr style=\"text-align: right;\">\n",
       "      <th></th>\n",
       "      <th>subcategory</th>\n",
       "      <th>campaign_num</th>\n",
       "    </tr>\n",
       "  </thead>\n",
       "  <tbody>\n",
       "    <tr>\n",
       "      <th>0</th>\n",
       "      <td>world music</td>\n",
       "      <td>3</td>\n",
       "    </tr>\n",
       "    <tr>\n",
       "      <th>1</th>\n",
       "      <td>audio</td>\n",
       "      <td>4</td>\n",
       "    </tr>\n",
       "    <tr>\n",
       "      <th>2</th>\n",
       "      <td>metal</td>\n",
       "      <td>7</td>\n",
       "    </tr>\n",
       "    <tr>\n",
       "      <th>3</th>\n",
       "      <td>radio &amp; podcasts</td>\n",
       "      <td>8</td>\n",
       "    </tr>\n",
       "    <tr>\n",
       "      <th>4</th>\n",
       "      <td>mobile games</td>\n",
       "      <td>13</td>\n",
       "    </tr>\n",
       "  </tbody>\n",
       "</table>\n",
       "</div>"
      ],
      "text/plain": [
       "        subcategory  campaign_num\n",
       "0       world music             3\n",
       "1             audio             4\n",
       "2             metal             7\n",
       "3  radio & podcasts             8\n",
       "4      mobile games            13"
      ]
     },
     "execution_count": 7,
     "metadata": {},
     "output_type": "execute_result"
    }
   ],
   "source": [
    "query = text(f\"\"\"\n",
    "                SELECT \n",
    "                \tsubcategory.subcategory,\n",
    "                \tcount(campaign.cf_id) as campaign_num\n",
    "                \n",
    "                FROM campaign\n",
    "                \tJOIN subcategory on subcategory.subcategory_id = campaign.subcategory_id\n",
    "                \n",
    "                GROUP BY\n",
    "                \tcampaign.subcategory_id,\n",
    "                \tsubcategory.subcategory\n",
    "                \n",
    "                ORDER BY \n",
    "                \tcampaign_num asc\n",
    "                \"\"\") \n",
    "\n",
    "df = pd.read_sql(query, con=conn)\n",
    "df.head()"
   ]
  },
  {
   "cell_type": "code",
   "execution_count": 27,
   "id": "0109c3dd-d56a-4a03-8510-081bb56661c4",
   "metadata": {},
   "outputs": [
    {
     "data": {
      "image/png": "[encoded data removed]",
      "text/plain": [
       "<Figure size 1200x600 with 1 Axes>"
      ]
     },
     "metadata": {},
     "output_type": "display_data"
    }
   ],
   "source": [
    "# Change Canvas Size\n",
    "plt.figure(figsize=(12, 6))\n",
    "\n",
    "# Create a basic plot\n",
    "sns.histplot(data=df, x=\"campaign_num\", kde=True, color=\"purple\")\n",
    "\n",
    "# Customizations\n",
    "\n",
    "# Change colors\n",
    "# Add in reference lines\n",
    "# Add Labels/Title\n",
    "plt.xlabel(\"Outcome\", fontfamily=\"Arial\", fontsize=12)\n",
    "plt.ylabel(\"Count\", fontfamily=\"Arial\", fontsize=12)\n",
    "plt.title(\"Number of Campaigns by Outcome\", fontweight=\"bold\", fontsize=16, fontfamily=\"Arial\")\n",
    "\n",
    "# Add in a background grid\n",
    "plt.grid(linestyle=\"--\", color=\"lightgrey\", alpha=0.75)\n",
    "\n",
    "# Show/Save the Graph\n",
    "plt.show()"
   ]
  },
  {
   "cell_type": "code",
   "execution_count": 21,
   "id": "7c7aa587-2b6b-4b2c-b803-d7b13e0ea8b7",
   "metadata": {},
   "outputs": [
    {
     "data": {
      "text/html": [
       "<div>\n",
       "<style scoped>\n",
       "    .dataframe tbody tr th:only-of-type {\n",
       "        vertical-align: middle;\n",
       "    }\n",
       "\n",
       "    .dataframe tbody tr th {\n",
       "        vertical-align: top;\n",
       "    }\n",
       "\n",
       "    .dataframe thead th {\n",
       "        text-align: right;\n",
       "    }\n",
       "</style>\n",
       "<table border=\"1\" class=\"dataframe\">\n",
       "  <thead>\n",
       "    <tr style=\"text-align: right;\">\n",
       "      <th></th>\n",
       "      <th>category</th>\n",
       "      <th>success_rate</th>\n",
       "    </tr>\n",
       "  </thead>\n",
       "  <tbody>\n",
       "    <tr>\n",
       "      <th>0</th>\n",
       "      <td>games</td>\n",
       "      <td>43.75</td>\n",
       "    </tr>\n",
       "    <tr>\n",
       "      <th>1</th>\n",
       "      <td>food</td>\n",
       "      <td>47.83</td>\n",
       "    </tr>\n",
       "    <tr>\n",
       "      <th>2</th>\n",
       "      <td>theater</td>\n",
       "      <td>54.36</td>\n",
       "    </tr>\n",
       "    <tr>\n",
       "      <th>3</th>\n",
       "      <td>music</td>\n",
       "      <td>56.57</td>\n",
       "    </tr>\n",
       "    <tr>\n",
       "      <th>4</th>\n",
       "      <td>film &amp; video</td>\n",
       "      <td>57.30</td>\n",
       "    </tr>\n",
       "  </tbody>\n",
       "</table>\n",
       "</div>"
      ],
      "text/plain": [
       "       category  success_rate\n",
       "0         games         43.75\n",
       "1          food         47.83\n",
       "2       theater         54.36\n",
       "3         music         56.57\n",
       "4  film & video         57.30"
      ]
     },
     "execution_count": 21,
     "metadata": {},
     "output_type": "execute_result"
    }
   ],
   "source": [
    "query = text(f\"\"\"\n",
    "            SELECT \n",
    "                category.category,\n",
    "                ROUND(\n",
    "                    (COUNT(CASE WHEN campaign.outcome = 'successful' THEN 1 END) * 100.0) / COUNT(*), 2) AS success_rate -- Percentage of successful campaigns, rounded to 2 decimal places\n",
    "            FROM campaign\n",
    "            JOIN category ON category.category_id = campaign.category_id\n",
    "            GROUP BY\n",
    "                campaign.category_id,\n",
    "                category.category\n",
    "            ORDER BY \n",
    "                success_rate ASC ;\n",
    "                \"\"\") \n",
    "\n",
    "df2 = pd.read_sql(query, con=conn)\n",
    "df2.head()"
   ]
  },
  {
   "cell_type": "code",
   "execution_count": null,
   "id": "15c7f348-327d-488f-8e04-e4343c569248",
   "metadata": {},
   "outputs": [],
   "source": []
  },
  {
   "cell_type": "code",
   "execution_count": null,
   "id": "8f23cd50-6876-4585-a474-494c13de83ce",
   "metadata": {},
   "outputs": [],
   "source": [
    "# Change Canvas Size\n",
    "plt.figure(figsize=(12, 6))\n",
    "\n",
    "# Create a basic plot\n",
    "sns.histplot(data=df, x=\"category_id\", kde=True, color=\"purple\")\n",
    "\n",
    "# Customizations\n",
    "\n",
    "# Change colors\n",
    "# Add in reference lines\n",
    "# Add Labels/Title\n",
    "plt.xlabel(\"Categories\", fontfamily=\"Arial\", fontsize=12)\n",
    "plt.ylabel(\"Count\", fontfamily=\"Arial\", fontsize=12)\n",
    "plt.title(\"Category by Count\", fontweight=\"bold\", fontsize=16, fontfamily=\"Arial\")\n",
    "\n",
    "# Add in a background grid\n",
    "plt.grid(linestyle=\"--\", color=\"lightgrey\", alpha=0.75)\n",
    "# plt.xlim(0,20)\n",
    "\n",
    "# Show/Save the Graph\n",
    "plt.show()"
   ]
  },
  {
   "cell_type": "code",
   "execution_count": null,
   "id": "87b4e5b3-31d7-4a5b-b4f9-77f72899d64b",
   "metadata": {},
   "outputs": [],
   "source": [
    "conn.close()\n",
    "session.close()"
   ]
  },
  {
   "cell_type": "code",
   "execution_count": null,
   "id": "9dc8f929-f6fc-4798-a6dd-dd4c33e05888",
   "metadata": {},
   "outputs": [],
   "source": [
    "engine.dispose() "
   ]
  }
 ],
 "metadata": {
  "kernelspec": {
   "display_name": "Python 3 (ipykernel)",
   "language": "python",
   "name": "python3"
  },
  "language_info": {
   "codemirror_mode": {
    "name": "ipython",
    "version": 3
   },
   "file_extension": ".py",
   "mimetype": "text/x-python",
   "name": "python",
   "nbconvert_exporter": "python",
   "pygments_lexer": "ipython3",
   "version": "3.10.15"
  }
 },
 "nbformat": 4,
 "nbformat_minor": 5
}
